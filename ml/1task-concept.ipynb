{
 "cells": [
  {
   "cell_type": "markdown",
   "id": "012dbd0a-82ff-4eed-9c02-3fb167e320f2",
   "metadata": {},
   "source": [
    "# General setup"
   ]
  },
  {
   "cell_type": "code",
   "execution_count": 2,
   "id": "e66fd64e-d56f-4bf8-9b36-e92233d9477e",
   "metadata": {},
   "outputs": [],
   "source": [
    "import os, sys, subprocess\n",
    "import time\n",
    "from glob import glob\n",
    "import itertools\n",
    "from functools import partial\n",
    "import copy\n",
    "import gc\n",
    "\n",
    "import importlib\n",
    "sys.path.insert(1, os.path.realpath('lib'))\n",
    "if \"utils\" not in sys.modules: import utils\n",
    "else: importlib.reload(utils)\n",
    "if \"ml\" not in sys.modules: import ml\n",
    "else: importlib.reload(ml)\n",
    "if \"train\" not in sys.modules: import train\n",
    "else: importlib.reload(train)\n",
    "\n",
    "# >>> exclude from multiprocessing\n",
    "import ipynbname\n",
    "nb_base = ipynbname.name().split('_')[0]\n",
    "# <<<\n",
    "\n",
    "import numpy as np\n",
    "\n",
    "# >>> exclude from multiprocessing\n",
    "from scipy import stats\n",
    "import matplotlib.pyplot as plt\n",
    "plt.rcParams.update({'font.size': 14})\n",
    "from matplotlib import ticker\n",
    "import h5py\n",
    "# <<<\n",
    "\n",
    "import torch\n",
    "from torch import nn\n",
    "from torch.utils.data import Dataset, DataLoader\n",
    "from torchvision import datasets\n",
    "from torchvision.transforms import Compose, ToTensor, Normalize\n",
    "if not utils.is_notebook():\n",
    "    import torch.multiprocessing as mp"
   ]
  },
  {
   "cell_type": "code",
   "execution_count": 3,
   "id": "6432fe38-e245-4d74-bebf-ffe9ebbd1335",
   "metadata": {},
   "outputs": [
    {
     "name": "stdout",
     "output_type": "stream",
     "text": [
      "Using cuda device\n"
     ]
    }
   ],
   "source": [
    "# >>> exclude from multiprocessing\n",
    "device = \"cuda\" if torch.cuda.is_available() else \"cpu\"\n",
    "print(f\"Using {device} device\")\n",
    "# <<<"
   ]
  },
  {
   "cell_type": "markdown",
   "id": "fc9e2a1e-76a9-475f-b845-dec39bbb513f",
   "metadata": {},
   "source": [
    "# Loading Data"
   ]
  },
  {
   "cell_type": "code",
   "execution_count": 5,
   "id": "e8a0ac31-0c65-4489-9be5-4461b6695b88",
   "metadata": {
    "tags": []
   },
   "outputs": [],
   "source": [
    "transform = Compose([\n",
    "    ToTensor(),\n",
    "    Normalize((0.1307,), (0.3081,))\n",
    "])\n",
    "\n",
    "raw_train_dataset = datasets.MNIST(\n",
    "    root=\"../data\",\n",
    "    train=True,\n",
    "    download=True,\n",
    "    transform=transform\n",
    ")\n",
    "\n",
    "raw_test_dataset = datasets.MNIST(\n",
    "    root=\"../data\",\n",
    "    train=False,\n",
    "    download=True,\n",
    "    transform=transform\n",
    ")"
   ]
  },
  {
   "cell_type": "code",
   "execution_count": 10,
   "id": "a731b26c-f5b1-40c9-9aa0-7d698b7a3bd5",
   "metadata": {},
   "outputs": [
    {
     "name": "stdout",
     "output_type": "stream",
     "text": [
      "Shape of X [N, C, H, W]:  torch.Size([16, 1, 28, 28])\n",
      "Shape of y:  torch.Size([16]) torch.int64\n",
      "Shape of z:  torch.Size([16]) torch.int64\n"
     ]
    },
    {
     "data": {
      "image/png": "[encoded data removed]",
      "text/plain": [
       "<Figure size 864x72 with 12 Axes>"
      ]
     },
     "metadata": {
      "needs_background": "light"
     },
     "output_type": "display_data"
    },
    {
     "name": "stdout",
     "output_type": "stream",
     "text": [
      "tensor([5, 2, 9, 1, 1, 9, 8, 2, 9, 3, 4, 0])\n",
      "tensor([14, 12, 12,  0, 13, 19, 16,  6,  6, 13, 17, 19])\n"
     ]
    }
   ],
   "source": [
    "# >>> exclude from multiprocessing\n",
    "# Example batch\n",
    "preview_dataloader = DataLoader(\n",
    "    ml.RelabeledSubset(raw_train_dataset, class_size=100,\n",
    "                       target2_config=20, transform=transform),\n",
    "    batch_size=16, shuffle=True)\n",
    "\n",
    "X, y, z = next(iter(preview_dataloader))\n",
    "print(\"Shape of X [N, C, H, W]: \", X.shape)\n",
    "print(\"Shape of y: \", y.shape, y.dtype)\n",
    "print(\"Shape of z: \", z.shape, z.dtype)\n",
    "    \n",
    "utils.plot_images(X.clamp_(-1, 1), num=12)\n",
    "print(y[:12])\n",
    "print(z[:12])\n",
    "# <<<"
   ]
  },
  {
   "cell_type": "markdown",
   "id": "3a692324-6056-4ebd-9c8b-b17db6984505",
   "metadata": {},
   "source": [
    "# Training"
   ]
  },
  {
   "cell_type": "code",
   "execution_count": 32,
   "id": "b24fa7f1-7336-433d-8b84-914ee02619d5",
   "metadata": {
    "tags": []
   },
   "outputs": [],
   "source": [
    "HIDDEN_SIZE = 50\n",
    "CLASS_SIZES = [200, 400, 600, 800, 1000]\n",
    "num_sizes = len(CLASS_SIZES)\n",
    "BATCH_SIZE = 50\n",
    "\n",
    "DECORR_STRENGTH = 0.5\n",
    "# Number of networks trained per class size\n",
    "NUM_REPLICATES = 8\n",
    "\n",
    "class_sizes = [rep\n",
    "               for size in CLASS_SIZES\n",
    "               for rep in (size,)*NUM_REPLICATES]*2\n",
    "# Baseline networks then DeCorr networks\n",
    "decorr_criteria = [rep\n",
    "                   for criterion in (None, ml.decorr_criterion)\n",
    "                   for rep in (criterion,)*NUM_REPLICATES*num_sizes]\n",
    "\n",
    "# Evaluate digit classification performance with held-out test data\n",
    "MODE = 'testval'\n",
    "\n",
    "# Defining datasets for each replicate\n",
    "train_datasets = [(\n",
    "    ml.RelabeledSubset,\n",
    "    dict(dataset=raw_train_dataset, class_size=class_size,\n",
    "         target2_config='none', transform=transform)\n",
    ") for class_size in class_sizes]\n",
    "test_dataset = (\n",
    "    ml.RelabeledSubset,\n",
    "    dict(dataset=raw_test_dataset,\n",
    "         target2_config='none', transform=transform)\n",
    ")\n",
    "\n",
    "# Defining multilayer perceptron\n",
    "model = (\n",
    "    ml.MLP,\n",
    "    dict(hidden_size=HIDDEN_SIZE, target_size=10,\n",
    "         nonlinearity1=nn.Tanh(), nonlinearity2=nn.Tanh())\n",
    ")\n",
    "\n",
    "# Looping through GPUs\n",
    "devices = itertools.cycle([torch.device('cuda', i)\n",
    "                           for i in range(torch.cuda.device_count())])"
   ]
  },
  {
   "cell_type": "code",
   "execution_count": 33,
   "id": "efe080ae-adb4-4018-9f61-f9f592b8e4ca",
   "metadata": {},
   "outputs": [],
   "source": [
    "NUM_EPOCHS = 40\n",
    "PRINT_EPOCHS = NUM_EPOCHS\n",
    "LEARNING_RATE = 1e-4\n",
    "WEIGHT_DECAY = 0\n",
    "NOISE_FN = None"
   ]
  },
  {
   "cell_type": "code",
   "execution_count": 34,
   "id": "3e0675d8-0ff7-4ddf-a2a6-543b8340a9a5",
   "metadata": {},
   "outputs": [
    {
     "data": {
      "text/plain": [
       "{'device': device(type='cuda', index=0),\n",
       " 'train_dataset': (ml.RelabeledSubset,\n",
       "  {'dataset': Dataset MNIST\n",
       "       Number of datapoints: 60000\n",
       "       Root location: ../../../PyTorchShared/Datasets\n",
       "       Split: Train\n",
       "       StandardTransform\n",
       "   Transform: Compose(\n",
       "                  ToTensor()\n",
       "                  Normalize(mean=(0.1307,), std=(0.3081,))\n",
       "              ),\n",
       "   'class_size': 200,\n",
       "   'target2_config': 'none',\n",
       "   'transform': Compose(\n",
       "       ToTensor()\n",
       "       Normalize(mean=(0.1307,), std=(0.3081,))\n",
       "   )}),\n",
       " 'decorr_criterion': None}"
      ]
     },
     "execution_count": 34,
     "metadata": {},
     "output_type": "execute_result"
    }
   ],
   "source": [
    "# Training keyword arguments that vary across replicates\n",
    "kwargs_map = [dict(device=dev,\n",
    "                   train_dataset=param0,\n",
    "                   decorr_criterion=param1)\n",
    "               for dev, param0, param1\n",
    "               in zip(devices,\n",
    "                      train_datasets,\n",
    "                      decorr_criteria)]\n",
    "# Training keyword arguments that remain constant\n",
    "kwargs_partial = dict(model=model,\n",
    "                      mode=MODE,\n",
    "                      test_dataset=test_dataset,\n",
    "                      decorr_strength=DECORR_STRENGTH,\n",
    "                      noise_fn=NOISE_FN,\n",
    "                      batch_size=BATCH_SIZE,\n",
    "                      learning_rate=LEARNING_RATE,\n",
    "                      num_epochs=NUM_EPOCHS,\n",
    "                      print_epochs=PRINT_EPOCHS)\n",
    "# >>> exclude from multiprocessing\n",
    "kwargs_map[0]\n",
    "# <<<"
   ]
  },
  {
   "cell_type": "code",
   "execution_count": 35,
   "id": "ea5af23e-5c0d-4ffe-a963-7db0bbf65ab3",
   "metadata": {},
   "outputs": [
    {
     "name": "stdout",
     "output_type": "stream",
     "text": [
      "(<class 'ml.MLP'>, {'hidden_size': 50, 'target_size': 10, 'nonlinearity1': Tanh(), 'nonlinearity2': Tanh()})\n",
      "cuda:1   0)   target:  1.929  decorr:  8.156   train: 0.528  test: 0.689\n",
      "cuda:1   1)   target:  1.211  decorr:  8.939   train: 0.765  test: 0.787\n",
      "cuda:1   3)   target:  0.580  decorr:  8.400   train: 0.864  test: 0.853\n",
      "cuda:1   5)   target:  0.384  decorr:  7.807   train: 0.908  test: 0.876\n",
      "cuda:1   7)   target:  0.287  decorr:  7.670   train: 0.938  test: 0.890\n",
      "cuda:1   9)   target:  0.225  decorr:  7.442   train: 0.953  test: 0.894\n",
      "cuda:1  11)   target:  0.179  decorr:  7.436   train: 0.966  test: 0.897\n",
      "cuda:1  13)   target:  0.147  decorr:  7.237   train: 0.973  test: 0.898\n",
      "cuda:1  15)   target:  0.122  decorr:  7.173   train: 0.983  test: 0.898\n",
      "cuda:1  17)   target:  0.099  decorr:  7.283   train: 0.989  test: 0.904\n",
      "cuda:1  19)   target:  0.084  decorr:  7.104   train: 0.992  test: 0.902\n",
      "cuda:1  21)   target:  0.070  decorr:  7.009   train: 0.995  test: 0.903\n",
      "cuda:1  23)   target:  0.059  decorr:  7.001   train: 0.997  test: 0.904\n",
      "cuda:1  25)   target:  0.052  decorr:  7.008   train: 0.998  test: 0.904\n",
      "cuda:1  27)   target:  0.045  decorr:  6.989   train: 0.998  test: 0.904\n",
      "cuda:1  29)   target:  0.039  decorr:  6.979   train: 0.999  test: 0.904\n",
      "cuda:1  31)   target:  0.035  decorr:  6.954   train: 0.999  test: 0.903\n",
      "cuda:1  33)   target:  0.031  decorr:  6.890   train: 1.000  test: 0.902\n",
      "cuda:1  35)   target:  0.028  decorr:  7.029   train: 1.000  test: 0.903\n",
      "cuda:1  37)   target:  0.025  decorr:  6.979   train: 1.000  test: 0.904\n",
      "cuda:1  39)   target:  0.023  decorr:  6.901   train: 1.000  test: 0.904\n",
      "\n",
      "Total execution time 3.788 sec\n"
     ]
    }
   ],
   "source": [
    "# >>> exclude from multiprocessing\n",
    "# Example training\n",
    "i_train = 1\n",
    "print(model)\n",
    "utils.start_timer()\n",
    "result = train.train(\n",
    "    **(kwargs_partial | {'print_epochs': 2}),\n",
    "    **kwargs_map[i_train]\n",
    ")\n",
    "utils.end_timer_and_print()\n",
    "# <<<"
   ]
  },
  {
   "cell_type": "code",
   "execution_count": 36,
   "id": "6555452b-a351-4434-88cd-1cd262602a62",
   "metadata": {
    "tags": []
   },
   "outputs": [],
   "source": [
    "# Only evaluate in multiprocessing script, not in notebook\n",
    "if not utils.is_notebook():\n",
    "    train_partial = partial(train.train, **kwargs_partial)\n",
    "   \n",
    "    # On NVIDIA V100 GPUs, each GPU can simultaneously train two networks\n",
    "    MAX_PROCESSES = 2 * torch.cuda.device_count()\n",
    "    \n",
    "    # Use multiprocessing to train networks in parallel\n",
    "    if __name__ == \"__main__\":\n",
    "        utils.start_timer()\n",
    "        mp.set_start_method('spawn', force=True)\n",
    "        \n",
    "        num_processes = min(len(kwargs_map), MAX_PROCESSES)\n",
    "        with mp.Pool(num_processes) as p:\n",
    "            results = utils.kwstarmap(p, train_partial, kwargs_map)\n",
    "\n",
    "        utils.end_timer_and_print()"
   ]
  },
  {
   "cell_type": "code",
   "execution_count": 37,
   "id": "e77c7d42-cebd-4dc0-a018-39b9186827fa",
   "metadata": {},
   "outputs": [
    {
     "name": "stderr",
     "output_type": "stream",
     "text": [
      "[NbConvertApp] Converting notebook 1task-concept.ipynb to script\n",
      "[NbConvertApp] Writing 7087 bytes to converted/1task-concept.py\n"
     ]
    },
    {
     "data": {
      "text/plain": [
       "0"
      ]
     },
     "execution_count": 37,
     "metadata": {},
     "output_type": "execute_result"
    }
   ],
   "source": [
    "# >>$ exclude from multiprocessing until end of notebook\n",
    "# Execute helper script to convert notebook to Python script\n",
    "subprocess.call([\"/bin/bash\", \"-c\",\n",
    "                 f\"$(pwd)/converted/nb2script.sh {nb_base}.ipynb\"])"
   ]
  },
  {
   "cell_type": "code",
   "execution_count": 39,
   "id": "3c38f15d-7a9d-445f-ac08-38964454680d",
   "metadata": {},
   "outputs": [
    {
     "name": "stdout",
     "output_type": "stream",
     "text": [
      "cuda:6   0)   target:  1.293  decorr:  8.143   train: 0.705  test: 0.858\n",
      "cuda:6  39)   target:  0.010  decorr:  6.318   train: 1.000  test: 0.932\n",
      "cuda:7   0)   target:  1.265  decorr:  9.002   train: 0.728  test: 0.863\n",
      "cuda:7  39)   target:  0.010  decorr:  6.248   train: 1.000  test: 0.932\n",
      "cuda:4   0)   target:  1.840  decorr:  3.871   train: 0.524  test: 0.742\n",
      "cuda:4  39)   target:  0.040  decorr:  1.176   train: 1.000  test: 0.913\n",
      "cuda:5   0)   target:  1.815  decorr:  3.782   train: 0.518  test: 0.758\n",
      "cuda:5  39)   target:  0.040  decorr:  1.187   train: 1.000  test: 0.913\n",
      "cuda:4   0)   target:  1.322  decorr:  8.530   train: 0.705  test: 0.869\n",
      "cuda:4  39)   target:  0.009  decorr:  6.549   train: 1.000  test: 0.930\n",
      "cuda:5   0)   target:  1.282  decorr:  8.349   train: 0.707  test: 0.859\n",
      "cuda:5  39)   target:  0.010  decorr:  6.401   train: 1.000  test: 0.933\n",
      "cuda:6   0)   target:  1.881  decorr:  3.916   train: 0.494  test: 0.760\n",
      "cuda:6  39)   target:  0.040  decorr:  1.162   train: 1.000  test: 0.916\n",
      "cuda:7   0)   target:  1.772  decorr:  4.274   train: 0.543  test: 0.743\n",
      "cuda:7  39)   target:  0.044  decorr:  1.171   train: 1.000  test: 0.913\n",
      "cuda:4   0)   target:  1.879  decorr:  6.827   train: 0.517  test: 0.703\n",
      "cuda:4  39)   target:  0.023  decorr:  6.768   train: 0.999  test: 0.900\n",
      "cuda:5   0)   target:  1.952  decorr:  7.365   train: 0.490  test: 0.687\n",
      "cuda:5  39)   target:  0.023  decorr:  6.647   train: 0.999  test: 0.899\n",
      "cuda:2   0)   target:  0.995  decorr:  8.229   train: 0.762  test: 0.889\n",
      "cuda:2  39)   target:  0.007  decorr:  6.422   train: 1.000  test: 0.946\n",
      "cuda:3   0)   target:  1.003  decorr:  7.856   train: 0.784  test: 0.890\n",
      "cuda:3  39)   target:  0.007  decorr:  6.181   train: 1.000  test: 0.944\n",
      "cuda:2   0)   target:  1.961  decorr:  7.805   train: 0.481  test: 0.679\n",
      "cuda:2  39)   target:  0.022  decorr:  6.691   train: 1.000  test: 0.901\n",
      "cuda:3   0)   target:  1.983  decorr:  7.320   train: 0.498  test: 0.723\n",
      "cuda:3  39)   target:  0.024  decorr:  6.609   train: 0.999  test: 0.900\n",
      "cuda:4   0)   target:  1.060  decorr:  9.348   train: 0.752  test: 0.884\n",
      "cuda:4  39)   target:  0.008  decorr:  6.305   train: 1.000  test: 0.941\n",
      "cuda:5   0)   target:  1.036  decorr:  8.536   train: 0.760  test: 0.884\n",
      "cuda:5  39)   target:  0.007  decorr:  6.377   train: 1.000  test: 0.947\n",
      "cuda:2   0)   target:  1.314  decorr:  7.884   train: 0.713  test: 0.839\n",
      "cuda:2  39)   target:  0.010  decorr:  6.384   train: 1.000  test: 0.932\n",
      "cuda:3   0)   target:  1.290  decorr:  8.992   train: 0.709  test: 0.859\n",
      "cuda:3  39)   target:  0.009  decorr:  6.369   train: 1.000  test: 0.934\n",
      "cuda:0   0)   target:  1.611  decorr:  3.263   train: 0.629  test: 0.821\n",
      "cuda:0  39)   target:  0.032  decorr:  1.128   train: 1.000  test: 0.926\n",
      "cuda:1   0)   target:  1.627  decorr:  3.827   train: 0.589  test: 0.787\n",
      "cuda:1  39)   target:  0.033  decorr:  1.114   train: 0.999  test: 0.923\n",
      "cuda:4   0)   target:  1.131  decorr:  7.949   train: 0.749  test: 0.876\n",
      "cuda:4  39)   target:  0.008  decorr:  6.463   train: 1.000  test: 0.937\n",
      "cuda:5   0)   target:  1.140  decorr:  8.558   train: 0.736  test: 0.875\n",
      "cuda:5  39)   target:  0.008  decorr:  6.377   train: 1.000  test: 0.940\n",
      "cuda:4   0)   target:  1.607  decorr:  3.340   train: 0.629  test: 0.802\n",
      "cuda:4  39)   target:  0.033  decorr:  1.113   train: 1.000  test: 0.924\n",
      "cuda:5   0)   target:  1.584  decorr:  3.917   train: 0.592  test: 0.788\n",
      "cuda:5  39)   target:  0.034  decorr:  1.095   train: 1.000  test: 0.924\n",
      "cuda:0   0)   target:  1.143  decorr:  7.529   train: 0.735  test: 0.880\n",
      "cuda:0  39)   target:  0.008  decorr:  6.181   train: 1.000  test: 0.937\n",
      "cuda:1   0)   target:  1.117  decorr:  9.172   train: 0.744  test: 0.875\n",
      "cuda:1  39)   target:  0.007  decorr:  6.383   train: 1.000  test: 0.938\n",
      "cuda:2   0)   target:  1.613  decorr:  4.207   train: 0.607  test: 0.796\n",
      "cuda:2  39)   target:  0.034  decorr:  1.130   train: 1.000  test: 0.925\n",
      "cuda:3   0)   target:  1.645  decorr:  3.487   train: 0.620  test: 0.808\n",
      "cuda:3  39)   target:  0.032  decorr:  1.107   train: 1.000  test: 0.925\n",
      "cuda:4   0)   target:  1.556  decorr:  8.659   train: 0.625  test: 0.824\n",
      "cuda:4  39)   target:  0.014  decorr:  6.736   train: 1.000  test: 0.925\n",
      "cuda:5   0)   target:  1.569  decorr:  8.606   train: 0.654  test: 0.806\n",
      "cuda:5  39)   target:  0.013  decorr:  6.789   train: 1.000  test: 0.921\n",
      "cuda:2   0)   target:  2.043  decorr:  4.251   train: 0.414  test: 0.620\n",
      "cuda:2  39)   target:  0.066  decorr:  1.345   train: 1.000  test: 0.890\n",
      "cuda:3   0)   target:  2.106  decorr:  5.154   train: 0.335  test: 0.615\n",
      "cuda:3  39)   target:  0.066  decorr:  1.341   train: 1.000  test: 0.892\n",
      "cuda:6   0)   target:  1.693  decorr:  3.119   train: 0.613  test: 0.813\n",
      "cuda:6  39)   target:  0.032  decorr:  1.096   train: 1.000  test: 0.927\n",
      "cuda:7   0)   target:  1.588  decorr:  3.583   train: 0.638  test: 0.825\n",
      "cuda:7  39)   target:  0.032  decorr:  1.097   train: 1.000  test: 0.920\n",
      "cuda:6   0)   target:  1.596  decorr:  7.572   train: 0.629  test: 0.801\n",
      "cuda:6  39)   target:  0.013  decorr:  6.390   train: 1.000  test: 0.922\n",
      "cuda:7   0)   target:  1.598  decorr:  9.548   train: 0.617  test: 0.799\n",
      "cuda:7  39)   target:  0.013  decorr:  6.744   train: 1.000  test: 0.923\n",
      "cuda:4   0)   target:  2.095  decorr:  5.238   train: 0.312  test: 0.565\n",
      "cuda:4  39)   target:  0.066  decorr:  1.312   train: 1.000  test: 0.897\n",
      "cuda:5   0)   target:  2.137  decorr:  5.042   train: 0.323  test: 0.607\n",
      "cuda:5  39)   target:  0.071  decorr:  1.293   train: 0.999  test: 0.888\n",
      "cuda:4   0)   target:  1.479  decorr:  3.279   train: 0.687  test: 0.840\n",
      "cuda:4  39)   target:  0.029  decorr:  1.080   train: 0.999  test: 0.932\n",
      "cuda:5   0)   target:  1.500  decorr:  2.690   train: 0.680  test: 0.837\n",
      "cuda:5  39)   target:  0.026  decorr:  1.092   train: 1.000  test: 0.928\n",
      "cuda:2   0)   target:  1.565  decorr:  8.142   train: 0.621  test: 0.817\n",
      "cuda:2  39)   target:  0.013  decorr:  6.696   train: 1.000  test: 0.921\n",
      "cuda:3   0)   target:  1.628  decorr:  8.630   train: 0.584  test: 0.795\n",
      "cuda:3  39)   target:  0.013  decorr:  6.876   train: 1.000  test: 0.922\n",
      "cuda:6   0)   target:  2.182  decorr:  4.934   train: 0.264  test: 0.579\n",
      "cuda:6  39)   target:  0.072  decorr:  1.292   train: 1.000  test: 0.887\n",
      "cuda:7   0)   target:  2.105  decorr:  4.275   train: 0.344  test: 0.564\n",
      "cuda:7  39)   target:  0.065  decorr:  1.319   train: 0.999  test: 0.892\n",
      "cuda:6   0)   target:  1.542  decorr:  3.491   train: 0.645  test: 0.826\n",
      "cuda:6  39)   target:  0.030  decorr:  1.092   train: 0.999  test: 0.925\n",
      "cuda:7   0)   target:  1.529  decorr:  3.244   train: 0.652  test: 0.846\n",
      "cuda:7  39)   target:  0.027  decorr:  1.069   train: 1.000  test: 0.934\n",
      "cuda:2   0)   target:  1.158  decorr:  8.205   train: 0.741  test: 0.875\n",
      "cuda:2  39)   target:  0.007  decorr:  6.041   train: 1.000  test: 0.938\n",
      "cuda:3   0)   target:  1.097  decorr:  8.245   train: 0.743  test: 0.879\n",
      "cuda:3  39)   target:  0.008  decorr:  6.268   train: 1.000  test: 0.937\n",
      "cuda:0   0)   target:  1.455  decorr:  2.920   train: 0.690  test: 0.851\n",
      "cuda:0  39)   target:  0.027  decorr:  1.065   train: 1.000  test: 0.929\n",
      "cuda:1   0)   target:  1.480  decorr:  3.181   train: 0.650  test: 0.820\n",
      "cuda:1  39)   target:  0.027  decorr:  1.053   train: 1.000  test: 0.930\n",
      "cuda:6   0)   target:  1.115  decorr:  8.949   train: 0.742  test: 0.873\n",
      "cuda:6  39)   target:  0.008  decorr:  6.780   train: 1.000  test: 0.939\n",
      "cuda:7   0)   target:  1.148  decorr:  8.263   train: 0.741  test: 0.876\n",
      "cuda:7  39)   target:  0.008  decorr:  6.504   train: 1.000  test: 0.941\n",
      "cuda:2   0)   target:  1.439  decorr:  3.159   train: 0.691  test: 0.850\n",
      "cuda:2  39)   target:  0.028  decorr:  1.073   train: 1.000  test: 0.928\n",
      "cuda:3   0)   target:  1.483  decorr:  2.800   train: 0.674  test: 0.843\n",
      "cuda:3  39)   target:  0.028  decorr:  1.074   train: 1.000  test: 0.930\n",
      "cuda:0   0)   target:  1.966  decorr:  7.106   train: 0.476  test: 0.676\n",
      "cuda:0  39)   target:  0.024  decorr:  6.404   train: 0.999  test: 0.902\n",
      "cuda:1   0)   target:  1.967  decorr:  6.563   train: 0.498  test: 0.701\n",
      "cuda:1  39)   target:  0.022  decorr:  6.621   train: 1.000  test: 0.899\n",
      "cuda:0   0)   target:  1.040  decorr:  8.527   train: 0.751  test: 0.888\n",
      "cuda:0  39)   target:  0.007  decorr:  6.475   train: 1.000  test: 0.946\n",
      "cuda:1   0)   target:  1.018  decorr:  8.705   train: 0.755  test: 0.884\n",
      "cuda:1  39)   target:  0.007  decorr:  6.298   train: 1.000  test: 0.944\n",
      "cuda:2   0)   target:  1.314  decorr:  3.208   train: 0.714  test: 0.864\n",
      "cuda:2  39)   target:  0.025  decorr:  1.057   train: 1.000  test: 0.933\n",
      "cuda:3   0)   target:  1.324  decorr:  2.818   train: 0.719  test: 0.866\n",
      "cuda:3  39)   target:  0.026  decorr:  1.028   train: 0.999  test: 0.926\n",
      "cuda:0   0)   target:  1.316  decorr:  8.143   train: 0.706  test: 0.865\n",
      "cuda:0  39)   target:  0.010  decorr:  6.337   train: 1.000  test: 0.933\n",
      "cuda:1   0)   target:  1.332  decorr:  8.661   train: 0.690  test: 0.864\n",
      "cuda:1  39)   target:  0.010  decorr:  6.389   train: 1.000  test: 0.931\n",
      "cuda:0   0)   target:  1.810  decorr:  3.379   train: 0.542  test: 0.766\n",
      "cuda:0  39)   target:  0.040  decorr:  1.207   train: 1.000  test: 0.902\n",
      "cuda:1   0)   target:  1.765  decorr:  4.315   train: 0.583  test: 0.777\n",
      "cuda:1  39)   target:  0.044  decorr:  1.180   train: 1.000  test: 0.914\n",
      "cuda:0   0)   target:  1.290  decorr:  3.155   train: 0.722  test: 0.867\n",
      "cuda:0  39)   target:  0.025  decorr:  1.044   train: 1.000  test: 0.937\n",
      "cuda:1   0)   target:  1.348  decorr:  2.895   train: 0.713  test: 0.866\n",
      "cuda:1  39)   target:  0.025  decorr:  1.034   train: 0.999  test: 0.934\n",
      "cuda:0   0)   target:  1.546  decorr:  7.848   train: 0.671  test: 0.819\n",
      "cuda:0  39)   target:  0.012  decorr:  6.272   train: 1.000  test: 0.922\n",
      "cuda:1   0)   target:  1.546  decorr:  8.481   train: 0.626  test: 0.794\n",
      "cuda:1  39)   target:  0.013  decorr:  6.500   train: 1.000  test: 0.919\n",
      "cuda:0   0)   target:  2.102  decorr:  4.951   train: 0.319  test: 0.638\n",
      "cuda:0  39)   target:  0.067  decorr:  1.333   train: 1.000  test: 0.902\n",
      "cuda:1   0)   target:  2.094  decorr:  5.182   train: 0.330  test: 0.633\n",
      "cuda:1  39)   target:  0.065  decorr:  1.324   train: 1.000  test: 0.900\n",
      "cuda:2   0)   target:  1.834  decorr:  3.802   train: 0.536  test: 0.787\n",
      "cuda:2  39)   target:  0.041  decorr:  1.171   train: 0.999  test: 0.917\n",
      "cuda:3   0)   target:  1.854  decorr:  4.301   train: 0.518  test: 0.735\n",
      "cuda:3  39)   target:  0.048  decorr:  1.148   train: 0.999  test: 0.912\n",
      "cuda:4   0)   target:  1.386  decorr:  2.893   train: 0.692  test: 0.861\n",
      "cuda:4  39)   target:  0.025  decorr:  1.032   train: 0.999  test: 0.935\n",
      "cuda:5   0)   target:  1.321  decorr:  2.965   train: 0.715  test: 0.867\n",
      "cuda:5  39)   target:  0.026  decorr:  1.055   train: 1.000  test: 0.930\n",
      "cuda:6   0)   target:  1.890  decorr:  6.910   train: 0.551  test: 0.748\n",
      "cuda:6  39)   target:  0.022  decorr:  6.766   train: 1.000  test: 0.899\n",
      "cuda:7   0)   target:  1.968  decorr:  7.558   train: 0.495  test: 0.727\n",
      "cuda:7  39)   target:  0.023  decorr:  6.497   train: 1.000  test: 0.897\n",
      "cuda:6   0)   target:  1.052  decorr:  9.002   train: 0.750  test: 0.893\n",
      "cuda:6  39)   target:  0.006  decorr:  6.596   train: 1.000  test: 0.947\n",
      "cuda:7   0)   target:  0.989  decorr:  7.632   train: 0.783  test: 0.889\n",
      "cuda:7  39)   target:  0.007  decorr:  6.023   train: 1.000  test: 0.947\n",
      "cuda:6   0)   target:  1.371  decorr:  2.913   train: 0.697  test: 0.859\n",
      "cuda:6  39)   target:  0.025  decorr:  1.038   train: 0.999  test: 0.933\n",
      "cuda:7   0)   target:  1.408  decorr:  2.767   train: 0.698  test: 0.857\n",
      "cuda:7  39)   target:  0.025  decorr:  1.039   train: 1.000  test: 0.933\n",
      "\n",
      "Total execution time 111.485 sec\n"
     ]
    }
   ],
   "source": [
    "# Run script using multiprocessing. Progress can be monitored using\n",
    "# the jupyter terminal or by jupyterlab-nvdashboard\n",
    "nb_script = f\"converted/{nb_base}.py\"\n",
    "%run -i $nb_script"
   ]
  },
  {
   "cell_type": "markdown",
   "id": "49ea10c0-e09f-41ac-9cf5-02f6595e36df",
   "metadata": {},
   "source": [
    "# Results"
   ]
  },
  {
   "cell_type": "code",
   "execution_count": 40,
   "id": "50beeae4-ba15-429e-b794-f5acb768d24f",
   "metadata": {},
   "outputs": [],
   "source": [
    "# Collecting results across trained networks\n",
    "losses = np.array([result[0] for result in results])\n",
    "train_accuracies = np.array([result[1] for result in results])\n",
    "test_accuracies = np.array([result[2] for result in results])"
   ]
  },
  {
   "cell_type": "code",
   "execution_count": 41,
   "id": "625022d8-16e5-476f-ac09-02d54d761d23",
   "metadata": {},
   "outputs": [],
   "source": [
    "if \"h5file\" in globals():\n",
    "    h5file.close()\n",
    "h5file = h5py.File(f\"out/{nb_base}.h5\", 'w')\n",
    "\n",
    "h5file.create_dataset(\"class_sizes\", data=class_sizes)\n",
    "h5file.create_dataset(\"losses\", data=losses)\n",
    "h5file.create_dataset(\"train_accuracies\", data=train_accuracies)\n",
    "h5file.create_dataset(\"test_accuracies\", data=test_accuracies)\n",
    "\n",
    "h5file.close()"
   ]
  },
  {
   "cell_type": "code",
   "execution_count": 42,
   "id": "8cc209de-ae17-4c05-8d73-7733d2e96d13",
   "metadata": {},
   "outputs": [],
   "source": [
    "sizes_by_criterion = np.array(class_sizes).reshape((2,-1))\n",
    "accuracies_by_criterion = test_accuracies[:,-1].reshape((2,-1))"
   ]
  },
  {
   "cell_type": "code",
   "execution_count": 43,
   "id": "e3f311e0-71fc-4706-9dc2-7367869e87b1",
   "metadata": {},
   "outputs": [
    {
     "data": {
      "image/png": "[encoded data removed]",
      "text/plain": [
       "<Figure size 432x360 with 1 Axes>"
      ]
     },
     "metadata": {
      "needs_background": "light"
     },
     "output_type": "display_data"
    }
   ],
   "source": [
    "labels = ('baseline', 'DeCorr')\n",
    "colors = ('tab:orange', 'tab:purple')\n",
    "shift = 0.10\n",
    "shift_facs = sizes_by_criterion[0, 0] * np.array((-shift, shift))\n",
    "\n",
    "fig, ax = plt.subplots(figsize=(6, 5))\n",
    "for sizes, accuracies, shift, color, label \\\n",
    "in zip(sizes_by_criterion, accuracies_by_criterion,\n",
    "       shift_facs, colors, labels):\n",
    "    ax.scatter(sizes + shift, accuracies, color=color, label=label)\n",
    "ax.set_xticks(CLASS_SIZES)\n",
    "ax.set_xlabel(\"dataset size per digit class\")\n",
    "ax.set_ylabel(\"concept accuracy\")\n",
    "ax.xaxis.set_major_formatter(ticker.ScalarFormatter())\n",
    "ax.xaxis.set_minor_formatter(ticker.NullFormatter())\n",
    "ax.legend(loc=\"lower right\")\n",
    "plt.show()"
   ]
  }
 ],
 "metadata": {
  "kernelspec": {
   "display_name": "Python 3 (ipykernel)",
   "language": "python",
   "name": "python3"
  },
  "language_info": {
   "codemirror_mode": {
    "name": "ipython",
    "version": 3
   },
   "file_extension": ".py",
   "mimetype": "text/x-python",
   "name": "python",
   "nbconvert_exporter": "python",
   "pygments_lexer": "ipython3",
   "version": "3.10.10"
  }
 },
 "nbformat": 4,
 "nbformat_minor": 5
}
