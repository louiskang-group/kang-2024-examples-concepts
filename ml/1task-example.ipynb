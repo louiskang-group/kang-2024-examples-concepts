{
 "cells": [
  {
   "cell_type": "markdown",
   "id": "a30f02da-2469-40fb-a877-c60a11e99f51",
   "metadata": {},
   "source": [
    "Only differences between this notebook an `1task-concept.ipynb` will be commented here. See `1task-concept.ipynb` for more thorough explanations."
   ]
  },
  {
   "cell_type": "markdown",
   "id": "012dbd0a-82ff-4eed-9c02-3fb167e320f2",
   "metadata": {},
   "source": [
    "# General setup"
   ]
  },
  {
   "cell_type": "code",
   "execution_count": 1,
   "id": "e66fd64e-d56f-4bf8-9b36-e92233d9477e",
   "metadata": {},
   "outputs": [],
   "source": [
    "import os, sys, subprocess\n",
    "import time\n",
    "from glob import glob\n",
    "import itertools\n",
    "from functools import partial\n",
    "import copy\n",
    "import gc\n",
    "\n",
    "import importlib\n",
    "sys.path.insert(1, os.path.realpath('lib'))\n",
    "if \"utils\" not in sys.modules: import utils\n",
    "else: importlib.reload(utils)\n",
    "if \"ml\" not in sys.modules: import ml\n",
    "else: importlib.reload(ml)\n",
    "if \"train\" not in sys.modules: import train\n",
    "else: importlib.reload(train)\n",
    "\n",
    "# >>>\n",
    "import ipynbname\n",
    "nb_base = ipynbname.name().split('_')[0]\n",
    "# <<<\n",
    "\n",
    "import numpy as np\n",
    "\n",
    "# >>>\n",
    "from scipy import stats\n",
    "import matplotlib.pyplot as plt\n",
    "plt.rcParams.update({'font.size': 14})\n",
    "from matplotlib import ticker\n",
    "import h5py\n",
    "# <<<\n",
    "\n",
    "import torch\n",
    "from torch import nn\n",
    "from torch.utils.data import Dataset, DataLoader\n",
    "from torchvision import datasets\n",
    "from torchvision.transforms import Compose, ToTensor, Normalize\n",
    "if not utils.is_notebook():\n",
    "    import torch.multiprocessing as mp"
   ]
  },
  {
   "cell_type": "code",
   "execution_count": 2,
   "id": "6432fe38-e245-4d74-bebf-ffe9ebbd1335",
   "metadata": {},
   "outputs": [
    {
     "name": "stdout",
     "output_type": "stream",
     "text": [
      "Using cuda device\n"
     ]
    }
   ],
   "source": [
    "# >>>\n",
    "device = \"cuda\" if torch.cuda.is_available() else \"cpu\"\n",
    "print(f\"Using {device} device\")\n",
    "# <<<"
   ]
  },
  {
   "cell_type": "markdown",
   "id": "fc9e2a1e-76a9-475f-b845-dec39bbb513f",
   "metadata": {},
   "source": [
    "# Loading Data"
   ]
  },
  {
   "cell_type": "code",
   "execution_count": 3,
   "id": "e8a0ac31-0c65-4489-9be5-4461b6695b88",
   "metadata": {
    "tags": []
   },
   "outputs": [],
   "source": [
    "transform = Compose([\n",
    "    ToTensor(),\n",
    "    Normalize((0.1307,), (0.3081,))\n",
    "])\n",
    "\n",
    "raw_train_dataset = datasets.MNIST(\n",
    "    root=\"../data\",\n",
    "    train=True,\n",
    "    download=True,\n",
    "    transform=transform\n",
    ")\n",
    "\n",
    "raw_test_dataset = datasets.MNIST(\n",
    "    root=\"../data\",\n",
    "    train=False,\n",
    "    download=True,\n",
    "    transform=transform\n",
    ")"
   ]
  },
  {
   "cell_type": "code",
   "execution_count": 4,
   "id": "a731b26c-f5b1-40c9-9aa0-7d698b7a3bd5",
   "metadata": {},
   "outputs": [
    {
     "name": "stdout",
     "output_type": "stream",
     "text": [
      "Shape of X [N, C, H, W]:  torch.Size([16, 1, 28, 28])\n",
      "Shape of y:  torch.Size([16]) torch.int64\n",
      "Shape of z:  torch.Size([16]) torch.int64\n"
     ]
    },
    {
     "data": {
      "image/png": "[encoded data removed]",
      "text/plain": [
       "<Figure size 864x72 with 12 Axes>"
      ]
     },
     "metadata": {
      "needs_background": "light"
     },
     "output_type": "display_data"
    },
    {
     "name": "stdout",
     "output_type": "stream",
     "text": [
      "tensor([8, 3, 2, 2, 2, 3, 1, 2, 0, 7, 9, 3])\n",
      "tensor([19, 10, 17, 14, 16, 13, 11, 12,  6, 12, 11, 12])\n"
     ]
    }
   ],
   "source": [
    "# >>>\n",
    "preview_dataloader = DataLoader(\n",
    "    ml.RelabeledSubset(raw_train_dataset, class_size=100,\n",
    "                       target2_config=20, transform=transform),\n",
    "    batch_size=16, shuffle=True)\n",
    "\n",
    "X, y, z = next(iter(preview_dataloader))\n",
    "print(\"Shape of X [N, C, H, W]: \", X.shape)\n",
    "print(\"Shape of y: \", y.shape, y.dtype)\n",
    "print(\"Shape of z: \", z.shape, z.dtype)\n",
    "    \n",
    "utils.plot_images(X.clamp_(-1, 1), num=12)\n",
    "print(y[:12])\n",
    "print(z[:12])\n",
    "# <<<"
   ]
  },
  {
   "cell_type": "markdown",
   "id": "3a692324-6056-4ebd-9c8b-b17db6984505",
   "metadata": {},
   "source": [
    "# Training"
   ]
  },
  {
   "cell_type": "code",
   "execution_count": 5,
   "id": "b24fa7f1-7336-433d-8b84-914ee02619d5",
   "metadata": {
    "tags": []
   },
   "outputs": [],
   "source": [
    "HIDDEN_SIZE = 50\n",
    "CLASS_SIZES = [20, 40, 60, 80, 100]\n",
    "num_sizes = len(CLASS_SIZES)\n",
    "BATCH_SIZE = 50\n",
    "NUM_SETS = 10\n",
    "\n",
    "DECORR_STRENGTH = 0.5\n",
    "NUM_REPLICATES = 8\n",
    "\n",
    "class_sizes = [rep\n",
    "               for size in CLASS_SIZES\n",
    "               for rep in (size,)*NUM_REPLICATES]*2\n",
    "decorr_criteria = [rep\n",
    "                   for criterion in (None, ml.decorr_criterion)\n",
    "                   for rep in (criterion,)*NUM_REPLICATES*num_sizes]\n",
    "\n",
    "# Evaluate set identification data with noisy test data\n",
    "MODE = 'set'\n",
    "\n",
    "train_datasets = [(\n",
    "    ml.RelabeledSubset,\n",
    "    dict(dataset=raw_train_dataset, class_size=class_size,\n",
    "         target2_config=NUM_SETS, transform=transform)\n",
    ") for class_size in class_sizes]\n",
    "test_dataset = None \n",
    "\n",
    "model = (\n",
    "    ml.MLP,\n",
    "    dict(hidden_size=HIDDEN_SIZE, target_size=NUM_SETS,\n",
    "         nonlinearity1=nn.Tanh(), nonlinearity2=nn.Tanh())\n",
    ")\n",
    "\n",
    "devices = itertools.cycle([torch.device('cuda', i)\n",
    "                           for i in range(torch.cuda.device_count())])"
   ]
  },
  {
   "cell_type": "code",
   "execution_count": 18,
   "id": "efe080ae-adb4-4018-9f61-f9f592b8e4ca",
   "metadata": {},
   "outputs": [
    {
     "data": {
      "image/png": "[encoded data removed]",
      "text/plain": [
       "<Figure size 864x72 with 12 Axes>"
      ]
     },
     "metadata": {
      "needs_background": "light"
     },
     "output_type": "display_data"
    }
   ],
   "source": [
    "NUM_EPOCHS = 100\n",
    "PRINT_EPOCHS = NUM_EPOCHS\n",
    "LEARNING_RATE = 1e-4\n",
    "WEIGHT_DECAY = 0\n",
    "\n",
    "# Function for randomly setting a fraction 0.2 of rescaled to pixels\n",
    "# to 0, which is the mean pixel value. Used for generating test data.\n",
    "def NOISE_FN(data):\n",
    "    mask = torch.rand_like(data)\n",
    "    threshold = mask.quantile(0.2)\n",
    "    mask = (mask - threshold > 0).float()\n",
    "    noisy_data = data * mask\n",
    "    return noisy_data\n",
    "\n",
    "# >>>\n",
    "# Sample test data\n",
    "X, _, _ = next(iter(preview_dataloader))\n",
    "noisy_X = NOISE_FN(X)\n",
    "utils.plot_images(noisy_X.clamp_(-1., 1.), num=12)\n",
    "# <<<"
   ]
  },
  {
   "cell_type": "code",
   "execution_count": 19,
   "id": "3e0675d8-0ff7-4ddf-a2a6-543b8340a9a5",
   "metadata": {},
   "outputs": [
    {
     "data": {
      "text/plain": [
       "{'device': device(type='cuda', index=1),\n",
       " 'train_dataset': (ml.RelabeledSubset,\n",
       "  {'dataset': Dataset MNIST\n",
       "       Number of datapoints: 60000\n",
       "       Root location: ../../../PyTorchShared/Datasets\n",
       "       Split: Train\n",
       "       StandardTransform\n",
       "   Transform: Compose(\n",
       "                  ToTensor()\n",
       "                  Normalize(mean=(0.1307,), std=(0.3081,))\n",
       "              ),\n",
       "   'class_size': 20,\n",
       "   'target2_config': 10,\n",
       "   'transform': Compose(\n",
       "       ToTensor()\n",
       "       Normalize(mean=(0.1307,), std=(0.3081,))\n",
       "   )}),\n",
       " 'decorr_criterion': None}"
      ]
     },
     "execution_count": 19,
     "metadata": {},
     "output_type": "execute_result"
    }
   ],
   "source": [
    "kwargs_map = [dict(device=dev,\n",
    "                   train_dataset=param0,\n",
    "                   decorr_criterion=param1)\n",
    "               for dev, param0, param1\n",
    "               in zip(devices,\n",
    "                      train_datasets,\n",
    "                      decorr_criteria)]\n",
    "kwargs_partial = dict(model=model,\n",
    "                      mode=MODE,\n",
    "                      test_dataset=test_dataset,\n",
    "                      decorr_strength=DECORR_STRENGTH,\n",
    "                      noise_fn=NOISE_FN,\n",
    "                      batch_size=BATCH_SIZE,\n",
    "                      learning_rate=LEARNING_RATE,\n",
    "                      num_epochs=NUM_EPOCHS,\n",
    "                      print_epochs=PRINT_EPOCHS)\n",
    "# >>>\n",
    "kwargs_map[0]\n",
    "# <<<"
   ]
  },
  {
   "cell_type": "code",
   "execution_count": 20,
   "id": "ea5af23e-5c0d-4ffe-a963-7db0bbf65ab3",
   "metadata": {},
   "outputs": [
    {
     "name": "stdout",
     "output_type": "stream",
     "text": [
      "(<class 'ml.MLP'>, {'hidden_size': 50, 'target_size': 10, 'nonlinearity1': Tanh(), 'nonlinearity2': Tanh()})\n",
      "cuda:0   0)   target:  2.328  decorr:  6.573   train: 0.105  test: 0.105\n",
      "cuda:0   4)   target:  2.280  decorr:  2.204   train: 0.144  test: 0.151\n",
      "cuda:0   9)   target:  2.239  decorr:  1.591   train: 0.205  test: 0.204\n",
      "cuda:0  14)   target:  2.196  decorr:  1.398   train: 0.250  test: 0.249\n",
      "cuda:0  19)   target:  2.137  decorr:  1.287   train: 0.296  test: 0.281\n",
      "cuda:0  24)   target:  2.063  decorr:  1.220   train: 0.356  test: 0.342\n",
      "cuda:0  29)   target:  1.960  decorr:  1.208   train: 0.405  test: 0.371\n",
      "cuda:0  34)   target:  1.834  decorr:  1.195   train: 0.478  test: 0.415\n",
      "cuda:0  39)   target:  1.668  decorr:  1.165   train: 0.545  test: 0.463\n",
      "cuda:0  44)   target:  1.482  decorr:  1.174   train: 0.624  test: 0.518\n",
      "cuda:0  49)   target:  1.279  decorr:  1.181   train: 0.697  test: 0.572\n",
      "cuda:0  54)   target:  1.078  decorr:  1.189   train: 0.774  test: 0.616\n",
      "cuda:0  59)   target:  0.884  decorr:  1.161   train: 0.831  test: 0.672\n",
      "cuda:0  64)   target:  0.705  decorr:  1.162   train: 0.896  test: 0.690\n",
      "cuda:0  69)   target:  0.570  decorr:  1.191   train: 0.923  test: 0.710\n",
      "cuda:0  74)   target:  0.454  decorr:  1.161   train: 0.957  test: 0.713\n",
      "cuda:0  79)   target:  0.368  decorr:  1.160   train: 0.969  test: 0.730\n",
      "cuda:0  84)   target:  0.303  decorr:  1.147   train: 0.982  test: 0.726\n",
      "cuda:0  89)   target:  0.250  decorr:  1.124   train: 0.991  test: 0.730\n",
      "cuda:0  94)   target:  0.210  decorr:  1.101   train: 0.997  test: 0.741\n",
      "cuda:0  99)   target:  0.179  decorr:  1.130   train: 0.998  test: 0.740\n",
      "\n",
      "Total execution time 5.644 sec\n"
     ]
    }
   ],
   "source": [
    "# >>>\n",
    "i_train = -1\n",
    "print(model)\n",
    "utils.start_timer()\n",
    "result = train.train(\n",
    "    **(kwargs_partial | {'print_epochs': 5}),\n",
    "    **kwargs_map[i_train]\n",
    ")\n",
    "utils.end_timer_and_print()\n",
    "# <<<"
   ]
  },
  {
   "cell_type": "code",
   "execution_count": 21,
   "id": "6555452b-a351-4434-88cd-1cd262602a62",
   "metadata": {
    "tags": []
   },
   "outputs": [],
   "source": [
    "if not utils.is_notebook():\n",
    "    train_partial = partial(train.train, **kwargs_partial)\n",
    "   \n",
    "    MAX_PROCESSES = 2 * torch.cuda.device_count()\n",
    "    \n",
    "    if __name__ == \"__main__\":\n",
    "        utils.start_timer()\n",
    "        mp.set_start_method('spawn', force=True)\n",
    "        \n",
    "        num_processes = min(len(kwargs_map), MAX_PROCESSES)\n",
    "        with mp.Pool(num_processes) as p:\n",
    "            results = utils.kwstarmap(p, train_partial, kwargs_map)\n",
    "\n",
    "        utils.end_timer_and_print()"
   ]
  },
  {
   "cell_type": "code",
   "execution_count": 34,
   "id": "e77c7d42-cebd-4dc0-a018-39b9186827fa",
   "metadata": {},
   "outputs": [
    {
     "name": "stderr",
     "output_type": "stream",
     "text": [
      "[NbConvertApp] Converting notebook 1task-example.ipynb to script\n",
      "[NbConvertApp] Writing 6631 bytes to converted/1task-example.py\n"
     ]
    },
    {
     "data": {
      "text/plain": [
       "0"
      ]
     },
     "execution_count": 34,
     "metadata": {},
     "output_type": "execute_result"
    }
   ],
   "source": [
    "# >>$\n",
    "subprocess.call([\"/bin/bash\", \"-c\",\n",
    "                 f\"$(pwd)/converted/nb2script.sh {nb_base}.ipynb\"])"
   ]
  },
  {
   "cell_type": "code",
   "execution_count": 23,
   "id": "3c38f15d-7a9d-445f-ac08-38964454680d",
   "metadata": {},
   "outputs": [
    {
     "name": "stdout",
     "output_type": "stream",
     "text": [
      "cuda:6   0)   target:  2.319  decorr:  7.952   train: 0.093  test: 0.110\n",
      "cuda:6  99)   target:  0.041  decorr:  4.459   train: 1.000  test: 0.743\n",
      "cuda:7   0)   target:  2.317  decorr:  5.690   train: 0.095  test: 0.098\n",
      "cuda:7  99)   target:  0.041  decorr:  4.669   train: 1.000  test: 0.720\n",
      "cuda:0   0)   target:  2.319  decorr:  7.814   train: 0.108  test: 0.127\n",
      "cuda:0  99)   target:  0.249  decorr:  1.214   train: 0.992  test: 0.868\n",
      "cuda:1   0)   target:  2.323  decorr:  7.660   train: 0.115  test: 0.107\n",
      "cuda:1  99)   target:  0.208  decorr:  1.167   train: 0.995  test: 0.863\n",
      "cuda:4   0)   target:  2.309  decorr:  8.601   train: 0.104  test: 0.121\n",
      "cuda:4  99)   target:  0.033  decorr:  4.467   train: 1.000  test: 0.679\n",
      "cuda:5   0)   target:  2.318  decorr:  5.643   train: 0.080  test: 0.110\n",
      "cuda:5  99)   target:  0.031  decorr:  4.429   train: 1.000  test: 0.697\n",
      "cuda:4   0)   target:  2.336  decorr:  6.471   train: 0.087  test: 0.119\n",
      "cuda:4  99)   target:  0.180  decorr:  1.152   train: 0.999  test: 0.825\n",
      "cuda:5   0)   target:  2.330  decorr:  8.218   train: 0.100  test: 0.095\n",
      "cuda:5  99)   target:  0.211  decorr:  1.176   train: 0.996  test: 0.801\n",
      "cuda:0   0)   target:  2.324  decorr:  8.133   train: 0.090  test: 0.090\n",
      "cuda:0  99)   target:  0.109  decorr:  5.346   train: 1.000  test: 0.955\n",
      "cuda:1   0)   target:  2.310  decorr:  7.080   train: 0.110  test: 0.130\n",
      "cuda:1  99)   target:  0.094  decorr:  5.824   train: 1.000  test: 0.940\n",
      "cuda:0   0)   target:  2.317  decorr:  7.070   train: 0.108  test: 0.117\n",
      "cuda:0  99)   target:  0.029  decorr:  4.265   train: 1.000  test: 0.636\n",
      "cuda:1   0)   target:  2.316  decorr:  8.519   train: 0.086  test: 0.138\n",
      "cuda:1  99)   target:  0.029  decorr:  4.151   train: 1.000  test: 0.637\n",
      "cuda:6   0)   target:  2.333  decorr:  7.444   train: 0.098  test: 0.115\n",
      "cuda:6  99)   target:  0.248  decorr:  1.248   train: 1.000  test: 0.930\n",
      "cuda:7   0)   target:  2.333  decorr: 11.923   train: 0.110  test: 0.107\n",
      "cuda:7  99)   target:  0.352  decorr:  1.333   train: 0.990  test: 0.912\n",
      "cuda:0   0)   target:  2.316  decorr:  6.737   train: 0.109  test: 0.106\n",
      "cuda:0  99)   target:  0.032  decorr:  4.240   train: 1.000  test: 0.697\n",
      "cuda:1   0)   target:  2.316  decorr:  8.873   train: 0.096  test: 0.120\n",
      "cuda:1  99)   target:  0.030  decorr:  4.435   train: 1.000  test: 0.656\n",
      "cuda:4   0)   target:  2.318  decorr: 12.656   train: 0.110  test: 0.122\n",
      "cuda:4  99)   target:  0.447  decorr:  1.237   train: 0.993  test: 0.885\n",
      "cuda:5   0)   target:  2.333  decorr:  8.497   train: 0.115  test: 0.110\n",
      "cuda:5  99)   target:  0.350  decorr:  1.229   train: 0.998  test: 0.920\n",
      "cuda:6   0)   target:  2.314  decorr:  9.573   train: 0.120  test: 0.140\n",
      "cuda:6  99)   target:  0.058  decorr:  4.990   train: 1.000  test: 0.805\n",
      "cuda:7   0)   target:  2.312  decorr:  9.038   train: 0.100  test: 0.093\n",
      "cuda:7  99)   target:  0.057  decorr:  5.081   train: 1.000  test: 0.782\n",
      "cuda:2   0)   target:  2.332  decorr: 11.255   train: 0.065  test: 0.095\n",
      "cuda:2  99)   target:  0.436  decorr:  1.299   train: 0.988  test: 0.890\n",
      "cuda:3   0)   target:  2.331  decorr:  9.963   train: 0.087  test: 0.085\n",
      "cuda:3  99)   target:  0.441  decorr:  1.274   train: 0.983  test: 0.900\n",
      "cuda:6   0)   target:  2.316  decorr:  8.566   train: 0.065  test: 0.090\n",
      "cuda:6  99)   target:  0.101  decorr:  5.807   train: 1.000  test: 0.945\n",
      "cuda:7   0)   target:  2.309  decorr:  6.929   train: 0.105  test: 0.115\n",
      "cuda:7  99)   target:  0.098  decorr:  5.451   train: 1.000  test: 0.945\n",
      "cuda:6   0)   target:  2.319  decorr:  5.833   train: 0.092  test: 0.115\n",
      "cuda:6  99)   target:  0.028  decorr:  4.403   train: 1.000  test: 0.620\n",
      "cuda:7   0)   target:  2.313  decorr:  6.496   train: 0.099  test: 0.131\n",
      "cuda:7  99)   target:  0.029  decorr:  4.275   train: 1.000  test: 0.652\n",
      "cuda:6   0)   target:  2.320  decorr:  6.209   train: 0.099  test: 0.111\n",
      "cuda:6  99)   target:  0.144  decorr:  1.134   train: 0.998  test: 0.830\n",
      "cuda:7   0)   target:  2.316  decorr:  6.845   train: 0.096  test: 0.116\n",
      "cuda:7  99)   target:  0.123  decorr:  1.097   train: 1.000  test: 0.854\n",
      "cuda:4   0)   target:  2.315  decorr:  6.918   train: 0.110  test: 0.150\n",
      "cuda:4  99)   target:  0.094  decorr:  5.542   train: 1.000  test: 0.970\n",
      "cuda:5   0)   target:  2.305  decorr:  8.100   train: 0.120  test: 0.120\n",
      "cuda:5  99)   target:  0.091  decorr:  5.144   train: 1.000  test: 0.925\n",
      "cuda:2   0)   target:  2.309  decorr:  8.523   train: 0.101  test: 0.140\n",
      "cuda:2  99)   target:  0.026  decorr:  4.227   train: 1.000  test: 0.620\n",
      "cuda:3   0)   target:  2.310  decorr:  8.302   train: 0.104  test: 0.128\n",
      "cuda:3  99)   target:  0.028  decorr:  4.307   train: 1.000  test: 0.633\n",
      "cuda:2   0)   target:  2.322  decorr:  6.603   train: 0.085  test: 0.110\n",
      "cuda:2  99)   target:  0.111  decorr:  5.295   train: 1.000  test: 0.890\n",
      "cuda:3   0)   target:  2.314  decorr:  5.988   train: 0.100  test: 0.090\n",
      "cuda:3  99)   target:  0.102  decorr:  5.637   train: 1.000  test: 0.940\n",
      "cuda:4   0)   target:  2.313  decorr:  8.597   train: 0.102  test: 0.119\n",
      "cuda:4  99)   target:  0.027  decorr:  4.233   train: 1.000  test: 0.637\n",
      "cuda:5   0)   target:  2.318  decorr:  7.489   train: 0.101  test: 0.120\n",
      "cuda:5  99)   target:  0.028  decorr:  4.364   train: 1.000  test: 0.647\n",
      "cuda:2   0)   target:  2.311  decorr:  7.169   train: 0.105  test: 0.125\n",
      "cuda:2  99)   target:  0.031  decorr:  4.379   train: 1.000  test: 0.704\n",
      "cuda:3   0)   target:  2.315  decorr: 10.004   train: 0.080  test: 0.110\n",
      "cuda:3  99)   target:  0.034  decorr:  4.313   train: 1.000  test: 0.686\n",
      "cuda:0   0)   target:  2.330  decorr:  7.294   train: 0.102  test: 0.120\n",
      "cuda:0  99)   target:  0.151  decorr:  1.098   train: 0.999  test: 0.845\n",
      "cuda:1   0)   target:  2.326  decorr:  6.870   train: 0.114  test: 0.130\n",
      "cuda:1  99)   target:  0.164  decorr:  1.141   train: 0.999  test: 0.819\n",
      "cuda:2   0)   target:  2.317  decorr: 10.325   train: 0.107  test: 0.125\n",
      "cuda:2  99)   target:  0.039  decorr:  4.704   train: 1.000  test: 0.775\n",
      "cuda:3   0)   target:  2.310  decorr:  7.176   train: 0.095  test: 0.155\n",
      "cuda:3  99)   target:  0.039  decorr:  4.669   train: 1.000  test: 0.738\n",
      "cuda:6   0)   target:  2.325  decorr:  7.353   train: 0.107  test: 0.100\n",
      "cuda:6  99)   target:  0.186  decorr:  1.177   train: 0.998  test: 0.900\n",
      "cuda:7   0)   target:  2.313  decorr:  7.108   train: 0.110  test: 0.105\n",
      "cuda:7  99)   target:  0.201  decorr:  1.177   train: 0.995  test: 0.880\n",
      "cuda:4   0)   target:  2.321  decorr:  6.838   train: 0.095  test: 0.117\n",
      "cuda:4  99)   target:  0.041  decorr:  4.393   train: 1.000  test: 0.748\n",
      "cuda:5   0)   target:  2.313  decorr:  7.625   train: 0.088  test: 0.112\n",
      "cuda:5  99)   target:  0.041  decorr:  4.630   train: 1.000  test: 0.712\n",
      "cuda:2   0)   target:  2.332  decorr:  7.802   train: 0.083  test: 0.102\n",
      "cuda:2  99)   target:  0.188  decorr:  1.170   train: 1.000  test: 0.867\n",
      "cuda:3   0)   target:  2.329  decorr:  8.340   train: 0.083  test: 0.102\n",
      "cuda:3  99)   target:  0.218  decorr:  1.145   train: 0.997  test: 0.885\n",
      "cuda:2   0)   target:  2.311  decorr:  8.247   train: 0.083  test: 0.115\n",
      "cuda:2  99)   target:  0.063  decorr:  4.923   train: 1.000  test: 0.812\n",
      "cuda:3   0)   target:  2.306  decorr:  6.875   train: 0.120  test: 0.120\n",
      "cuda:3  99)   target:  0.061  decorr:  5.319   train: 1.000  test: 0.822\n",
      "cuda:0   0)   target:  2.334  decorr: 10.178   train: 0.098  test: 0.125\n",
      "cuda:0  99)   target:  0.392  decorr:  1.274   train: 0.985  test: 0.887\n",
      "cuda:1   0)   target:  2.321  decorr:  7.232   train: 0.102  test: 0.107\n",
      "cuda:1  99)   target:  0.290  decorr:  1.247   train: 0.998  test: 0.933\n",
      "cuda:2   0)   target:  2.334  decorr:  7.541   train: 0.092  test: 0.112\n",
      "cuda:2  99)   target:  0.189  decorr:  1.115   train: 0.997  test: 0.760\n",
      "cuda:3   0)   target:  2.317  decorr:  6.115   train: 0.113  test: 0.118\n",
      "cuda:3  99)   target:  0.151  decorr:  1.095   train: 0.999  test: 0.739\n",
      "cuda:0   0)   target:  2.323  decorr:  8.722   train: 0.090  test: 0.087\n",
      "cuda:0  99)   target:  0.058  decorr:  4.664   train: 1.000  test: 0.752\n",
      "cuda:1   0)   target:  2.315  decorr:  8.328   train: 0.107  test: 0.097\n",
      "cuda:1  99)   target:  0.057  decorr:  4.858   train: 1.000  test: 0.810\n",
      "cuda:0   0)   target:  2.311  decorr:  9.436   train: 0.110  test: 0.085\n",
      "cuda:0  99)   target:  0.625  decorr:  1.357   train: 0.970  test: 0.930\n",
      "cuda:1   0)   target:  2.307  decorr: 15.325   train: 0.080  test: 0.080\n",
      "cuda:1  99)   target:  0.585  decorr:  1.424   train: 0.980  test: 0.960\n",
      "cuda:6   0)   target:  2.323  decorr: 15.196   train: 0.125  test: 0.105\n",
      "cuda:6  99)   target:  0.764  decorr:  1.362   train: 0.960  test: 0.895\n",
      "cuda:7   0)   target:  2.333  decorr: 14.943   train: 0.080  test: 0.105\n",
      "cuda:7  99)   target:  0.533  decorr:  1.468   train: 0.990  test: 0.970\n",
      "cuda:6   0)   target:  2.336  decorr:  6.897   train: 0.113  test: 0.107\n",
      "cuda:6  99)   target:  0.162  decorr:  1.090   train: 1.000  test: 0.782\n",
      "cuda:7   0)   target:  2.324  decorr:  7.100   train: 0.115  test: 0.111\n",
      "cuda:7  99)   target:  0.163  decorr:  1.114   train: 0.998  test: 0.758\n",
      "cuda:6   0)   target:  2.316  decorr:  4.865   train: 0.101  test: 0.138\n",
      "cuda:6  99)   target:  0.029  decorr:  4.349   train: 1.000  test: 0.689\n",
      "cuda:7   0)   target:  2.319  decorr:  4.968   train: 0.087  test: 0.120\n",
      "cuda:7  99)   target:  0.032  decorr:  4.297   train: 1.000  test: 0.629\n",
      "cuda:2   0)   target:  2.330  decorr:  7.317   train: 0.110  test: 0.107\n",
      "cuda:2  99)   target:  0.179  decorr:  1.150   train: 0.998  test: 0.840\n",
      "cuda:3   0)   target:  2.319  decorr:  6.733   train: 0.114  test: 0.109\n",
      "cuda:3  99)   target:  0.161  decorr:  1.096   train: 1.000  test: 0.811\n",
      "cuda:0   0)   target:  2.321  decorr:  7.472   train: 0.097  test: 0.117\n",
      "cuda:0  99)   target:  0.039  decorr:  4.434   train: 1.000  test: 0.712\n",
      "cuda:1   0)   target:  2.314  decorr:  6.724   train: 0.083  test: 0.103\n",
      "cuda:1  99)   target:  0.040  decorr:  4.377   train: 1.000  test: 0.747\n",
      "cuda:2   0)   target:  2.292  decorr: 13.930   train: 0.165  test: 0.155\n",
      "cuda:2  99)   target:  0.570  decorr:  1.393   train: 0.985  test: 0.925\n",
      "cuda:3   0)   target:  2.341  decorr: 18.165   train: 0.090  test: 0.090\n",
      "cuda:3  99)   target:  0.631  decorr:  1.440   train: 0.980  test: 0.915\n",
      "cuda:4   0)   target:  2.338  decorr:  6.413   train: 0.097  test: 0.120\n",
      "cuda:4  99)   target:  0.126  decorr:  1.087   train: 1.000  test: 0.745\n",
      "cuda:5   0)   target:  2.337  decorr:  6.629   train: 0.081  test: 0.085\n",
      "cuda:5  99)   target:  0.138  decorr:  1.085   train: 1.000  test: 0.751\n",
      "cuda:4   0)   target:  2.317  decorr:  5.758   train: 0.090  test: 0.097\n",
      "cuda:4  99)   target:  0.058  decorr:  5.007   train: 1.000  test: 0.800\n",
      "cuda:5   0)   target:  2.321  decorr:  5.494   train: 0.085  test: 0.087\n",
      "cuda:5  99)   target:  0.053  decorr:  4.846   train: 1.000  test: 0.808\n",
      "cuda:4   0)   target:  2.307  decorr:  9.210   train: 0.100  test: 0.125\n",
      "cuda:4  99)   target:  0.455  decorr:  1.422   train: 0.995  test: 0.960\n",
      "cuda:5   0)   target:  2.311  decorr:  7.970   train: 0.095  test: 0.055\n",
      "cuda:5  99)   target:  0.433  decorr:  1.399   train: 1.000  test: 0.970\n",
      "cuda:4   0)   target:  2.328  decorr:  8.408   train: 0.080  test: 0.103\n",
      "cuda:4  99)   target:  0.226  decorr:  1.169   train: 1.000  test: 0.872\n",
      "cuda:5   0)   target:  2.328  decorr:  7.533   train: 0.095  test: 0.107\n",
      "cuda:5  99)   target:  0.214  decorr:  1.156   train: 1.000  test: 0.865\n",
      "cuda:0   0)   target:  2.331  decorr:  5.676   train: 0.097  test: 0.116\n",
      "cuda:0  99)   target:  0.122  decorr:  1.077   train: 0.999  test: 0.783\n",
      "cuda:1   0)   target:  2.331  decorr:  7.127   train: 0.101  test: 0.099\n",
      "cuda:1  99)   target:  0.194  decorr:  1.118   train: 0.998  test: 0.732\n",
      "\n",
      "Total execution time 58.634 sec\n"
     ]
    }
   ],
   "source": [
    "nb_script = f\"converted/{nb_base}.py\"\n",
    "%run -i $nb_script"
   ]
  },
  {
   "cell_type": "markdown",
   "id": "49ea10c0-e09f-41ac-9cf5-02f6595e36df",
   "metadata": {},
   "source": [
    "# Results"
   ]
  },
  {
   "cell_type": "code",
   "execution_count": 24,
   "id": "50beeae4-ba15-429e-b794-f5acb768d24f",
   "metadata": {},
   "outputs": [],
   "source": [
    "losses = np.array([result[0] for result in results])\n",
    "train_accuracies = np.array([result[1] for result in results])\n",
    "test_accuracies = np.array([result[2] for result in results])"
   ]
  },
  {
   "cell_type": "code",
   "execution_count": 25,
   "id": "625022d8-16e5-476f-ac09-02d54d761d23",
   "metadata": {},
   "outputs": [],
   "source": [
    "if \"h5file\" in globals():\n",
    "    h5file.close()\n",
    "h5file = h5py.File(f\"out/{nb_base}.h5\", 'w')\n",
    "\n",
    "h5file.create_dataset(\"class_sizes\", data=class_sizes)\n",
    "h5file.create_dataset(\"losses\", data=losses)\n",
    "h5file.create_dataset(\"train_accuracies\", data=train_accuracies)\n",
    "h5file.create_dataset(\"test_accuracies\", data=test_accuracies)\n",
    "\n",
    "h5file.close()"
   ]
  },
  {
   "cell_type": "code",
   "execution_count": 26,
   "id": "8cc209de-ae17-4c05-8d73-7733d2e96d13",
   "metadata": {},
   "outputs": [],
   "source": [
    "sizes_by_criterion = np.array(class_sizes).reshape((2,-1))\n",
    "accuracies_by_criterion = test_accuracies[:,-1].reshape((2,-1))"
   ]
  },
  {
   "cell_type": "code",
   "execution_count": 29,
   "id": "e3f311e0-71fc-4706-9dc2-7367869e87b1",
   "metadata": {},
   "outputs": [
    {
     "data": {
      "image/png": "[encoded data removed]",
      "text/plain": [
       "<Figure size 432x360 with 1 Axes>"
      ]
     },
     "metadata": {
      "needs_background": "light"
     },
     "output_type": "display_data"
    }
   ],
   "source": [
    "labels = ('baseline', 'DeCorr')\n",
    "colors = ('tab:orange', 'tab:purple')\n",
    "shift = 0.10\n",
    "shift_facs = sizes_by_criterion[0, 0] * np.array((-shift, shift))\n",
    "\n",
    "fig, ax = plt.subplots(figsize=(6, 5))\n",
    "for sizes, accuracies, shift, color, label \\\n",
    "in zip(sizes_by_criterion, accuracies_by_criterion,\n",
    "       shift_facs, colors, labels):\n",
    "    ax.scatter(sizes + shift, accuracies, color=color, label=label)\n",
    "ax.set_xticks(CLASS_SIZES)\n",
    "ax.set_xlabel(\"dataset size per digit class\")\n",
    "ax.set_ylabel(\"example accuracy\")\n",
    "ax.xaxis.set_major_formatter(ticker.ScalarFormatter())\n",
    "ax.xaxis.set_minor_formatter(ticker.NullFormatter())\n",
    "ax.legend(loc=\"lower left\")\n",
    "plt.show()"
   ]
  }
 ],
 "metadata": {
  "kernelspec": {
   "display_name": "Python 3 (ipykernel)",
   "language": "python",
   "name": "python3"
  },
  "language_info": {
   "codemirror_mode": {
    "name": "ipython",
    "version": 3
   },
   "file_extension": ".py",
   "mimetype": "text/x-python",
   "name": "python",
   "nbconvert_exporter": "python",
   "pygments_lexer": "ipython3",
   "version": "3.10.10"
  }
 },
 "nbformat": 4,
 "nbformat_minor": 5
}
